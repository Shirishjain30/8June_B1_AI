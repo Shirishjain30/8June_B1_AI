{
 "cells": [
  {
   "cell_type": "code",
   "execution_count": 12,
   "id": "36e911f4-5d42-44e4-ac1e-89ef8e5cab93",
   "metadata": {},
   "outputs": [],
   "source": [
    "from tkinter import *\n",
    "import pandas as pd\n",
    "\n",
    "\n",
    "root = Tk()\n",
    "root.configure(bg='Grey')\n",
    "root.title('House Price Predictor')\n",
    "root.geometry('400x300')\n",
    "root.minsize(width = 350 ,height=250 )\n",
    "m= pd.read_pickle(\"house_price_predictor.pkl\")\n",
    "predict_price= DoubleVar()\n",
    "inc= IntVar()\n",
    "age= IntVar()\n",
    "room= IntVar()\n",
    "pop= IntVar()\n",
    "\n",
    "def predictor():\n",
    "    Income =inc.get()\n",
    "    Age = age.get()\n",
    "    Room = room.get()\n",
    "    Pop = pop.get()\n",
    "    query= pd.DataFrame({'Avg. Area Income':[Income],'Avg. Area House Age':[Age],'Avg. Area Number of Rooms':[Room],'Area Population':[Pop]})\n",
    "    predict_price.set(m.predict(query)[0])\n",
    "\n",
    "l2 = Label(root, text='Income: ',relief= SUNKEN).place(relx= 0.05 , rely=0.1)\n",
    "l1 = Label(root, text='House Age: ',relief= SUNKEN).place(relx= 0.05 , rely=0.2) \n",
    "l3 = Label(root, text='No. of rooms: ',relief= SUNKEN).place(relx= 0.05, rely=0.3)\n",
    "l4 = Label(root, text='Area population: ',relief= SUNKEN).place(relx= 0.05 , rely=0.4)\n",
    "\n",
    "Entry(root , textvariable = inc).place(relx= 0.25 , rely= 0.1)\n",
    "Entry(root, textvariable = age).place(relx= 0.29, rely = 0.2)\n",
    "Entry(root, textvariable = room).place(relx= 0.35, rely = 0.3)\n",
    "Entry(root, textvariable = pop).place(relx= 0.38, rely = 0.4)\n",
    "\n",
    "\n",
    "Button(root,text = \"Show Price\", width =9, command= predictor,font= 'calibre 10 bold' ).place(rely=0.8,relx=0.5)\n",
    "\n",
    "Label(root, textvariable= predict_price ,font= 'calibre 10 bold', relief= SUNKEN, width=20).place(rely=0.9,relx=0.5)\n",
    "\n",
    "root.mainloop()"
   ]
  },
  {
   "cell_type": "code",
   "execution_count": null,
   "id": "81650515-b286-446d-a952-3c6a587e5429",
   "metadata": {},
   "outputs": [],
   "source": []
  }
 ],
 "metadata": {
  "kernelspec": {
   "display_name": "Python 3",
   "language": "python",
   "name": "python3"
  },
  "language_info": {
   "codemirror_mode": {
    "name": "ipython",
    "version": 3
   },
   "file_extension": ".py",
   "mimetype": "text/x-python",
   "name": "python",
   "nbconvert_exporter": "python",
   "pygments_lexer": "ipython3",
   "version": "3.8.8"
  }
 },
 "nbformat": 4,
 "nbformat_minor": 5
}
