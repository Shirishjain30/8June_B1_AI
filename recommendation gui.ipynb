{
 "cells": [
  {
   "cell_type": "code",
   "execution_count": 1,
   "id": "fcda64c4-34d1-45cd-8855-093ebe135766",
   "metadata": {},
   "outputs": [],
   "source": [
    "import tkinter as tk"
   ]
  },
  {
   "cell_type": "code",
   "execution_count": 2,
   "id": "d91d4875-2850-4124-9c8e-b02330275a3c",
   "metadata": {},
   "outputs": [],
   "source": [
    "import pandas as pd"
   ]
  },
  {
   "cell_type": "code",
   "execution_count": 3,
   "id": "85108dfa-8ce1-41b0-8978-1fe8d4c23181",
   "metadata": {},
   "outputs": [],
   "source": [
    "import warnings \n",
    "warnings.filterwarnings('ignore')"
   ]
  },
  {
   "cell_type": "code",
   "execution_count": null,
   "id": "7c385caa-9262-4f7c-a3c4-909dd1961b75",
   "metadata": {},
   "outputs": [],
   "source": [
    "df = pd.read_csv('ml-100k/u.data',sep='\\t',names=['user_id','item_id','rating','ts'])\n",
    "\n",
    "cols = \"item_id|title| release date | video release date |\\\n",
    "              IMDb URL | unknown | Action | Adventure | Animation |\\\n",
    "              Children's | Comedy | Crime | Documentary | Drama | Fantasy |\\\n",
    "              Film-Noir | Horror | Musical | Mystery | Romance | Sci-Fi |\\\n",
    "              Thriller | War | Western \".split('|')\n",
    "movies=pd.read_csv('ml-100k/u.item',sep='|',names=cols)\n",
    "data=pd.merge(df.drop('ts',axis=1),movies[['item_id','title']],on='item_id')\n",
    "rate_count = data.groupby('title')['rating'].count()\n",
    "df_pivot = data.pivot_table(index='user_id',columns='title',values='rating')\n",
    "\n",
    "\n",
    "\n",
    "\n",
    "app=tk.Tk()\n",
    "app.geometry('450x300')\n",
    "app.title('Recommendation Engine')\n",
    "\n",
    "listbox = tk.Listbox(app,height=15,width=30,bg='white',fg='black')\n",
    "listbox.place(x=20,y=20)\n",
    "\n",
    "for i,t in enumerate(data['title'].unique()):\n",
    "    listbox.insert(i+1,t)\n",
    "    \n",
    "\n",
    "def recommend():\n",
    "    inp=listbox.get(listbox.curselection())\n",
    "    sim_df= pd.DataFrame(df_pivot.corrwith(df_pivot[inp]),columns=['Correlation'])\n",
    "    sim_df['Count']=rate_count\n",
    "    \n",
    "    recom=sim_df[sim_df['Count']>100].sort_values(by='Correlation',ascending=False)\n",
    "    recom.drop(inp,axis=0,inplace=True)\n",
    "    recommended=recom.index[:3]\n",
    "    result1.set(recommended[0])\n",
    "    result2.set(recommended[1])\n",
    "    result3.set(recommended[2])\n",
    "   \n",
    "    #print(inp)\n",
    "    #print(recommended)\n",
    "    \n",
    "tk.Button(app,text='Show Recommendations',command=recommend,bg='red').place(x=250,y=30)    \n",
    "\n",
    "result1 = tk.Variable(app)\n",
    "result1.set('.')\n",
    "tk.Label(app,textvariable=result1).place(x=250,y=100)\n",
    "\n",
    "result2 = tk.Variable(app)\n",
    "result2.set('.')\n",
    "tk.Label(app,textvariable=result2).place(x=250,y=130)\n",
    "\n",
    "result3 = tk.Variable(app)\n",
    "result3.set('.')\n",
    "tk.Label(app,textvariable=result3).place(x=250,y=160)\n",
    "\n",
    "\n",
    "app.mainloop()"
   ]
  },
  {
   "cell_type": "code",
   "execution_count": null,
   "id": "8a0ed327-8f51-41ec-95b4-8012aff9621e",
   "metadata": {},
   "outputs": [],
   "source": []
  }
 ],
 "metadata": {
  "kernelspec": {
   "display_name": "Python 3",
   "language": "python",
   "name": "python3"
  },
  "language_info": {
   "codemirror_mode": {
    "name": "ipython",
    "version": 3
   },
   "file_extension": ".py",
   "mimetype": "text/x-python",
   "name": "python",
   "nbconvert_exporter": "python",
   "pygments_lexer": "ipython3",
   "version": "3.8.8"
  }
 },
 "nbformat": 4,
 "nbformat_minor": 5
}
